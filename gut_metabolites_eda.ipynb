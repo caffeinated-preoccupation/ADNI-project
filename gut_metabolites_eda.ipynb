{
 "cells": [
  {
   "cell_type": "code",
   "execution_count": 1,
   "metadata": {},
   "outputs": [],
   "source": [
    "import gut_metabolites as gm\n",
    "import shared_types as ty\n",
    "import pandas as pd\n",
    "import shared_functions as fu\n",
    "import significant_metabolites_sex as significant"
   ]
  },
  {
   "cell_type": "code",
   "execution_count": null,
   "metadata": {},
   "outputs": [],
   "source": [
    "gm.plot_hist_kde(\n",
    "    metabolite_group=significant.gut_metabolites,\n",
    "    hue=ty.FilterColor.Sex,\n",
    "    sample_source=ty.Sample.Gut,\n",
    "    start_diagnosis=ty.Diagnosis.Normal,\n",
    "    end_diagnosis=ty.Diagnosis.Normal,\n",
    "    biological_sex=ty.BioSex.All,\n",
    ")"
   ]
  },
  {
   "cell_type": "code",
   "execution_count": null,
   "metadata": {},
   "outputs": [],
   "source": [
    "gm.plot_hist_kde(\n",
    "    metabolite_group=[\"C8_0\", \"HIPPURIC_ACID\", \"INDOLEACETIC_ACID\"],\n",
    "    hue=ty.FilterColor.Diagnosis,\n",
    "    sample_source=ty.Sample.Gut,\n",
    "    start_diagnosis=ty.Diagnosis.Normal,\n",
    "    biological_sex=ty.BioSex.Male,\n",
    "    color_config=ty.FilterColor.Diagnosis,\n",
    ")"
   ]
  },
  {
   "cell_type": "code",
   "execution_count": null,
   "metadata": {},
   "outputs": [],
   "source": [
    "gm.plot_hist_kde(\n",
    "    metabolite_group=ty.MetaboliteGroup.AminoAcids,\n",
    "    hue=ty.FilterColor.Diagnosis,\n",
    "    sample_source=ty.Sample.Gut,\n",
    "    start_diagnosis=ty.Diagnosis.Normal,\n",
    "    biological_sex=ty.BioSex.Male,\n",
    "    color_config=ty.FilterColor.Diagnosis,\n",
    ")"
   ]
  },
  {
   "cell_type": "code",
   "execution_count": 2,
   "metadata": {},
   "outputs": [],
   "source": [
    "normal_baseline = fu.add_enddx_total_to_baseline(\n",
    "    metabolites=\"gut_metabolites_result.csv\",\n",
    "    diagnoses=\"All_Subjects_DXSUM_08Oct2024.csv\",\n",
    "    gender=\"ADNIMERGE_08Oct2024.csv\",\n",
    "    sample_source=ty.Sample.Gut,\n",
    "    metabolite_group=ty.MetaboliteGroup.All,\n",
    "    start_diagnosis=ty.Diagnosis.Normal,\n",
    "    end_diagnosis=ty.Diagnosis.All,\n",
    ")\n",
    "\n",
    "mci_baseline = fu.add_enddx_total_to_baseline(\n",
    "    metabolites=\"gut_metabolites_result.csv\",\n",
    "    diagnoses=\"All_Subjects_DXSUM_08Oct2024.csv\",\n",
    "    sample_source=ty.Sample.Gut,\n",
    "    gender=\"ADNIMERGE_08Oct2024.csv\",\n",
    "    metabolite_group=ty.MetaboliteGroup.All,\n",
    "    start_diagnosis=ty.Diagnosis.MCI,\n",
    "    end_diagnosis=ty.Diagnosis.All,\n",
    ")\n",
    "\n",
    "ad_baseline = fu.add_enddx_total_to_baseline(\n",
    "    metabolites=\"gut_metabolites_result.csv\",\n",
    "    diagnoses=\"All_Subjects_DXSUM_08Oct2024.csv\",\n",
    "    sample_source=ty.Sample.Gut,\n",
    "    gender=\"ADNIMERGE_08Oct2024.csv\",\n",
    "    metabolite_group=ty.MetaboliteGroup.All,\n",
    "    start_diagnosis=ty.Diagnosis.AD,\n",
    "    end_diagnosis=ty.Diagnosis.All,\n",
    ")\n",
    "\n",
    "baseline = pd.concat([normal_baseline, mci_baseline, ad_baseline])\n",
    "\n",
    "start_diagnosis_map = {1.0: \"Normal Baseline\", 2.0: \"MCI Baseline\", 3.0: \"AD Baseline\"}\n",
    "baseline[\"start_diagnosis\"] = baseline[\"DIAGNOSIS\"].map(start_diagnosis_map)"
   ]
  },
  {
   "cell_type": "code",
   "execution_count": 3,
   "metadata": {},
   "outputs": [],
   "source": [
    "data = baseline.loc[baseline[\"DIAGNOSIS\"] == 1.0]"
   ]
  },
  {
   "cell_type": "code",
   "execution_count": null,
   "metadata": {},
   "outputs": [],
   "source": [
    "fu.plot_sunburst_dist(data=baseline, path=[\"start_diagnosis\", \"END_DIAGNOSIS\"])\n"
   ]
  },
  {
   "cell_type": "code",
   "execution_count": null,
   "metadata": {},
   "outputs": [],
   "source": [
    "fu.plot_sunburst_dist(data=baseline, path=[\"PTGENDER\",\"start_diagnosis\"])"
   ]
  },
  {
   "cell_type": "code",
   "execution_count": null,
   "metadata": {},
   "outputs": [],
   "source": [
    "fu.plot_sunburst_dist(data=data, path=[\"PTGENDER\",\"END_DIAGNOSIS\"], color_sequence=[\"steelblue\",\"salmon\"])"
   ]
  },
  {
   "cell_type": "code",
   "execution_count": 2,
   "metadata": {},
   "outputs": [],
   "source": [
    "results = gm.display_effect_sizes_and_cohens(\n",
    "    metabolite_group=significant.gut_metabolites,\n",
    "    hue=ty.FilterColor.Sex,\n",
    "    sample_source=ty.Sample.Gut,\n",
    "    start_diagnosis=ty.Diagnosis.Normal,\n",
    "    end_diagnosis=ty.Diagnosis.All,\n",
    "    biological_sex=ty.BioSex.All,\n",
    ")"
   ]
  },
  {
   "cell_type": "code",
   "execution_count": null,
   "metadata": {},
   "outputs": [],
   "source": [
    "gm.plot_age_vs_variable(\n",
    "    metabolite_group=ty.MetaboliteGroup.LongFattyAcids,\n",
    "    hue=ty.FilterColor.Sex,\n",
    "    sample_source=ty.Sample.Gut,\n",
    "    start_diagnosis=ty.Diagnosis.Normal,\n",
    "    end_diagnosis=ty.Diagnosis.Normal,\n",
    "    biological_sex=ty.BioSex.All\n",
    ")\n"
   ]
  },
  {
   "cell_type": "code",
   "execution_count": null,
   "metadata": {},
   "outputs": [],
   "source": [
    "gm.plot_age_vs_variable(\n",
    "    metabolite_group=significant.gut_metabolites,\n",
    "    hue=ty.FilterColor.Sex,\n",
    "    sample_source=ty.Sample.Gut,\n",
    "    start_diagnosis=ty.Diagnosis.Normal,\n",
    "    end_diagnosis=ty.Diagnosis.Normal,\n",
    "    biological_sex=ty.BioSex.All,\n",
    ")\n"
   ]
  },
  {
   "cell_type": "code",
   "execution_count": null,
   "metadata": {},
   "outputs": [],
   "source": [
    "\n",
    "gm.plot_age_vs_variable(\n",
    "    metabolite_group=significant.gut_metabolites,\n",
    "    hue=ty.FilterColor.Diagnosis,\n",
    "    sample_source=ty.Sample.Gut,\n",
    "    start_diagnosis=ty.Diagnosis.Normal,\n",
    "    end_diagnosis=ty.Diagnosis.All,\n",
    "    biological_sex=ty.BioSex.All,\n",
    "    color_config=ty.FilterColor.Diagnosis\n",
    ")"
   ]
  }
 ],
 "metadata": {
  "kernelspec": {
   "display_name": "venv",
   "language": "python",
   "name": "python3"
  },
  "language_info": {
   "codemirror_mode": {
    "name": "ipython",
    "version": 3
   },
   "file_extension": ".py",
   "mimetype": "text/x-python",
   "name": "python",
   "nbconvert_exporter": "python",
   "pygments_lexer": "ipython3",
   "version": "3.11.4"
  }
 },
 "nbformat": 4,
 "nbformat_minor": 2
}
